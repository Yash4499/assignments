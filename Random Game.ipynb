{
  "cells": [
    {
      "cell_type": "code",
      "execution_count": null,
      "metadata": {
        "colab": {
          "background_save": true,
          "base_uri": "https://localhost:8080/"
        },
        "id": "DKrUjEJ5Hg0q",
        "outputId": "b008de74-5c06-4f3e-8ec8-53c2e89c5b72"
      },
      "outputs": [
        {
          "name": "stdout",
          "output_type": "stream",
          "text": [
            "Enter your guess\n"
          ]
        }
      ],
      "source": [
        "import random\n",
        "ll = int(input(\"enter the lower limit: \"))\n",
        "ul = int(input(\"Enter the upper limit : \"))\n",
        "value = random.randint(ll,ul)\n",
        "guessess = 0\n",
        "while(guessess<5):\n",
        "  print(\"Enter your guess\")\n",
        "  guess = int(input())\n",
        "  if(guess == value):\n",
        "    print(\"You are winner!!\")\n",
        "    break\n",
        "  elif(guess < value):\n",
        "    print(\"value is lower than number\")\n",
        "    guessess = guessess + 1\n",
        "  elif(guess>value):\n",
        "    print(\"Value is higher than number\")\n",
        "    guessess  = guessess + 1\n",
        "  else:\n",
        "    print(\"Wrong format\")\n",
        "    break\n",
        "  if(guessess == 5 ):\n",
        "    print(f'You lost the game!! The correct value is {value}')"
      ]
    },
    {
      "cell_type": "code",
      "execution_count": null,
      "metadata": {
        "id": "0GwAE4TYHhyu"
      },
      "outputs": [],
      "source": [
        "6"
      ]
    }
  ],
  "metadata": {
    "colab": {
      "provenance": []
    },
    "kernelspec": {
      "display_name": "Python 3",
      "name": "python3"
    },
    "language_info": {
      "name": "python"
    }
  },
  "nbformat": 4,
  "nbformat_minor": 0
}